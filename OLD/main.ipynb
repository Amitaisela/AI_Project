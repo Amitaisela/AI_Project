{
 "cells": [
  {
   "cell_type": "code",
   "execution_count": 20,
   "metadata": {},
   "outputs": [],
   "source": [
    "import numpy as np\n",
    "import random\n",
    "from collections import deque"
   ]
  },
  {
   "cell_type": "markdown",
   "metadata": {},
   "source": [
    "# puzzle"
   ]
  },
  {
   "cell_type": "code",
   "execution_count": 21,
   "metadata": {},
   "outputs": [],
   "source": [
    "# Define the goal state for the 8-puzzle\n",
    "goal_state = np.array([[1, 2, 3],\n",
    "                       [4, 5, 6],\n",
    "                       [7, 8, 0]])  # '0' represents the blank space\n",
    "\n",
    "# Helper function to generate a random solvable 8-puzzle\n",
    "def is_solvable(puzzle):\n",
    "    \"\"\" Check if the puzzle is solvable. \"\"\"\n",
    "    flat_puzzle = puzzle.flatten()\n",
    "    inv_count = 0\n",
    "    for i in range(8):\n",
    "        for j in range(i + 1, 9):\n",
    "            if flat_puzzle[j] and flat_puzzle[i] and flat_puzzle[i] > flat_puzzle[j]:\n",
    "                inv_count += 1\n",
    "    return inv_count % 2 == 0\n",
    "\n",
    "def generate_puzzle():\n",
    "    \"\"\" Generate a solvable random 8-puzzle. \"\"\"\n",
    "    puzzle = goal_state.copy()\n",
    "    while True:\n",
    "        np.random.shuffle(puzzle.flat)\n",
    "        if is_solvable(puzzle) and not np.array_equal(puzzle, goal_state):\n",
    "            break\n",
    "    return puzzle"
   ]
  },
  {
   "cell_type": "code",
   "execution_count": 22,
   "metadata": {},
   "outputs": [
    {
     "name": "stdout",
     "output_type": "stream",
     "text": [
      "Initial State:\n",
      "[[7 1 3]\n",
      " [6 8 5]\n",
      " [4 0 2]]\n"
     ]
    },
    {
     "name": "stderr",
     "output_type": "stream",
     "text": [
      "C:\\Users\\amita\\AppData\\Local\\Temp\\ipykernel_17300\\230494868.py:21: UserWarning: you are shuffling a 'flatiter' object which is not a subclass of 'Sequence'; `shuffle` is not guaranteed to behave correctly. E.g., non-numpy array/tensor objects with view semantics may contain duplicates after shuffling.\n",
      "  np.random.shuffle(puzzle.flat)\n"
     ]
    }
   ],
   "source": [
    "# Example puzzle generation\n",
    "initial_state = generate_puzzle()\n",
    "print(\"Initial State:\")\n",
    "print(initial_state)"
   ]
  },
  {
   "cell_type": "markdown",
   "metadata": {},
   "source": [
    "# RTA*"
   ]
  },
  {
   "cell_type": "code",
   "execution_count": 23,
   "metadata": {},
   "outputs": [],
   "source": [
    "# Define possible moves: up, down, left, right\n",
    "moves = {\n",
    "    'up': (-1, 0),\n",
    "    'down': (1, 0),\n",
    "    'left': (0, -1),\n",
    "    'right': (0, 1)\n",
    "}\n"
   ]
  },
  {
   "cell_type": "code",
   "execution_count": 24,
   "metadata": {},
   "outputs": [],
   "source": [
    "def get_blank_position(state):\n",
    "    \"\"\" Find the position of the blank space (0) in the puzzle. \"\"\"\n",
    "    return np.argwhere(state == 0)[0]\n",
    "\n",
    "def is_valid_move(blank_pos, move):\n",
    "    \"\"\" Check if the move is valid based on the blank position. \"\"\"\n",
    "    row, col = blank_pos\n",
    "    row_move, col_move = moves[move]\n",
    "    new_row, new_col = row + row_move, col + col_move\n",
    "    return 0 <= new_row < 3 and 0 <= new_col < 3\n",
    "\n",
    "def make_move(state, move):\n",
    "    \"\"\" Make a move and return the new puzzle configuration. \"\"\"\n",
    "    blank_pos = get_blank_position(state)\n",
    "    row, col = blank_pos\n",
    "    row_move, col_move = moves[move]\n",
    "    new_row, new_col = row + row_move, col + col_move\n",
    "    \n",
    "    # Swap the blank space with the target\n",
    "    new_state = state.copy()\n",
    "    new_state[row, col], new_state[new_row, new_col] = new_state[new_row, new_col], new_state[row, col]\n",
    "    \n",
    "    return new_state\n",
    "\n",
    "def get_neighbors(state):\n",
    "    \"\"\" Get all valid neighbors of the current state. \"\"\"\n",
    "    blank_pos = get_blank_position(state)\n",
    "    neighbors = []\n",
    "    \n",
    "    for move in moves:\n",
    "        if is_valid_move(blank_pos, move):\n",
    "            new_state = make_move(state, move)\n",
    "            neighbors.append((move, new_state))\n",
    "    \n",
    "    return neighbors\n",
    "\n",
    "# Real-Time A* Search (RTA*)\n",
    "def rta_star(initial_state, heuristic, goal_state, max_depth=300):\n",
    "    state = initial_state.copy()\n",
    "    path = [state]\n",
    "    g_cost = 0  # Initialize cost so far\n",
    "    \n",
    "    while not np.array_equal(state, goal_state) and g_cost < max_depth:\n",
    "        neighbors = get_neighbors(state)\n",
    "        \n",
    "        # Evaluate neighbors using f(n) = g(n) + h(n)\n",
    "        f_values = []\n",
    "        for move, neighbor in neighbors:\n",
    "            g = g_cost + 1  # Increment cost\n",
    "            h = heuristic(neighbor, goal_state)\n",
    "            f = g + h\n",
    "            f_values.append((f, neighbor, move))\n",
    "        \n",
    "        # Choose the neighbor with the lowest f-value\n",
    "        best_f, best_neighbor, best_move = min(f_values, key=lambda x: x[0])\n",
    "        \n",
    "        # Update the state to the best neighbor and track the path\n",
    "        state = best_neighbor\n",
    "        path.append(state)\n",
    "        g_cost += 1\n",
    "        \n",
    "    return path, g_cost\n",
    "\n",
    "# Example heuristic: Manhattan distance\n",
    "def manhattan_distance(state, goal_state):\n",
    "    \"\"\" Calculate the Manhattan distance for the 8-puzzle. \"\"\"\n",
    "    distance = 0\n",
    "    for i in range(1, 9):\n",
    "        pos = np.argwhere(state == i)\n",
    "        goal_pos = np.argwhere(goal_state == i)\n",
    "        distance += abs(pos[0][0] - goal_pos[0][0]) + abs(pos[0][1] - goal_pos[0][1])\n",
    "    return distance"
   ]
  },
  {
   "cell_type": "code",
   "execution_count": 25,
   "metadata": {},
   "outputs": [
    {
     "name": "stdout",
     "output_type": "stream",
     "text": [
      "Solution found with 300 moves.\n"
     ]
    }
   ],
   "source": [
    "# Test the RTA* algorithm with Manhattan heuristic\n",
    "path, cost = rta_star(initial_state, manhattan_distance, goal_state)\n",
    "print(f\"Solution found with {cost} moves.\")"
   ]
  },
  {
   "cell_type": "code",
   "execution_count": 26,
   "metadata": {},
   "outputs": [
    {
     "data": {
      "text/plain": [
       "array([[7, 1, 3],\n",
       "       [6, 8, 5],\n",
       "       [4, 0, 2]])"
      ]
     },
     "execution_count": 26,
     "metadata": {},
     "output_type": "execute_result"
    }
   ],
   "source": [
    "initial_state"
   ]
  },
  {
   "cell_type": "code",
   "execution_count": 27,
   "metadata": {},
   "outputs": [
    {
     "data": {
      "text/plain": [
       "[('up',\n",
       "  array([[7, 1, 3],\n",
       "         [6, 0, 5],\n",
       "         [4, 8, 2]])),\n",
       " ('left',\n",
       "  array([[7, 1, 3],\n",
       "         [6, 8, 5],\n",
       "         [0, 4, 2]])),\n",
       " ('right',\n",
       "  array([[7, 1, 3],\n",
       "         [6, 8, 5],\n",
       "         [4, 2, 0]]))]"
      ]
     },
     "execution_count": 27,
     "metadata": {},
     "output_type": "execute_result"
    }
   ],
   "source": [
    "get_neighbors(initial_state)\n"
   ]
  },
  {
   "cell_type": "code",
   "execution_count": null,
   "metadata": {},
   "outputs": [],
   "source": []
  }
 ],
 "metadata": {
  "kernelspec": {
   "display_name": "base",
   "language": "python",
   "name": "python3"
  },
  "language_info": {
   "codemirror_mode": {
    "name": "ipython",
    "version": 3
   },
   "file_extension": ".py",
   "mimetype": "text/x-python",
   "name": "python",
   "nbconvert_exporter": "python",
   "pygments_lexer": "ipython3",
   "version": "3.11.7"
  }
 },
 "nbformat": 4,
 "nbformat_minor": 2
}
